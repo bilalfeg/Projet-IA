{
 "cells": [
  {
   "cell_type": "code",
   "execution_count": 1,
   "id": "3e55abe3",
   "metadata": {},
   "outputs": [],
   "source": [
    "import pandas as pd\n",
    "import numpy as np\n",
    "import matplotlib.pyplot as plt\n",
    "import seaborn as sns\n",
    "from matplotlib.colors import Normalize"
   ]
  },
  {
   "cell_type": "markdown",
   "id": "5f478890",
   "metadata": {},
   "source": [
    "# ArmedAngels Clothes"
   ]
  },
  {
   "cell_type": "code",
   "execution_count": 19,
   "id": "2c38045a",
   "metadata": {},
   "outputs": [],
   "source": [
    "df_Armed_clothes = pd.read_csv(\"armed_cloth.csv\")"
   ]
  },
  {
   "cell_type": "code",
   "execution_count": 20,
   "id": "f891b89c",
   "metadata": {},
   "outputs": [
    {
     "data": {
      "text/html": [
       "<div>\n",
       "<style scoped>\n",
       "    .dataframe tbody tr th:only-of-type {\n",
       "        vertical-align: middle;\n",
       "    }\n",
       "\n",
       "    .dataframe tbody tr th {\n",
       "        vertical-align: top;\n",
       "    }\n",
       "\n",
       "    .dataframe thead th {\n",
       "        text-align: right;\n",
       "    }\n",
       "</style>\n",
       "<table border=\"1\" class=\"dataframe\">\n",
       "  <thead>\n",
       "    <tr style=\"text-align: right;\">\n",
       "      <th></th>\n",
       "      <th>Unnamed: 0</th>\n",
       "      <th>product_id</th>\n",
       "      <th>gender</th>\n",
       "      <th>clothes</th>\n",
       "      <th>color</th>\n",
       "      <th>price</th>\n",
       "      <th>label1</th>\n",
       "      <th>label2</th>\n",
       "      <th>label3</th>\n",
       "    </tr>\n",
       "  </thead>\n",
       "  <tbody>\n",
       "    <tr>\n",
       "      <th>0</th>\n",
       "      <td>0</td>\n",
       "      <td>7930</td>\n",
       "      <td>Femme</td>\n",
       "      <td>Hose</td>\n",
       "      <td>\\r\\nwarm blue\\r\\n</td>\n",
       "      <td>\\r\\n69,9</td>\n",
       "      <td>PETA approved vegan</td>\n",
       "      <td>NaN</td>\n",
       "      <td>NaN</td>\n",
       "    </tr>\n",
       "    <tr>\n",
       "      <th>1</th>\n",
       "      <td>1</td>\n",
       "      <td>4583</td>\n",
       "      <td>Homme</td>\n",
       "      <td>Sweatshirt</td>\n",
       "      <td>\\r\\nmorning sky\\r\\n</td>\n",
       "      <td>\\r\\n69,9</td>\n",
       "      <td>GRS, CU-1085700</td>\n",
       "      <td>PETA approved vegan</td>\n",
       "      <td>NaN</td>\n",
       "    </tr>\n",
       "    <tr>\n",
       "      <th>2</th>\n",
       "      <td>2</td>\n",
       "      <td>2609</td>\n",
       "      <td>Homme</td>\n",
       "      <td>Jeans</td>\n",
       "      <td>\\r\\nshower\\r\\n</td>\n",
       "      <td>\\r\\n119,9</td>\n",
       "      <td>PETA approved vegan</td>\n",
       "      <td>NaN</td>\n",
       "      <td>NaN</td>\n",
       "    </tr>\n",
       "    <tr>\n",
       "      <th>3</th>\n",
       "      <td>3</td>\n",
       "      <td>6175</td>\n",
       "      <td>Femme</td>\n",
       "      <td>Jeans</td>\n",
       "      <td>\\r\\nwashed down black\\r\\n</td>\n",
       "      <td>\\r\\n99,9</td>\n",
       "      <td>GOTS, organic, CU-1085700</td>\n",
       "      <td>PETA approved vegan</td>\n",
       "      <td>NaN</td>\n",
       "    </tr>\n",
       "    <tr>\n",
       "      <th>4</th>\n",
       "      <td>4</td>\n",
       "      <td>1789</td>\n",
       "      <td>Femme</td>\n",
       "      <td>Jeans</td>\n",
       "      <td>\\r\\nbasic\\r\\n</td>\n",
       "      <td>\\r\\n99,9</td>\n",
       "      <td>GOTS, organic, CU-1085700</td>\n",
       "      <td>PETA approved vegan</td>\n",
       "      <td>NaN</td>\n",
       "    </tr>\n",
       "  </tbody>\n",
       "</table>\n",
       "</div>"
      ],
      "text/plain": [
       "   Unnamed: 0  product_id gender     clothes                      color  \\\n",
       "0           0        7930  Femme        Hose          \\r\\nwarm blue\\r\\n   \n",
       "1           1        4583  Homme  Sweatshirt        \\r\\nmorning sky\\r\\n   \n",
       "2           2        2609  Homme       Jeans             \\r\\nshower\\r\\n   \n",
       "3           3        6175  Femme       Jeans  \\r\\nwashed down black\\r\\n   \n",
       "4           4        1789  Femme       Jeans              \\r\\nbasic\\r\\n   \n",
       "\n",
       "       price                     label1               label2  label3  \n",
       "0   \\r\\n69,9        PETA approved vegan                  NaN     NaN  \n",
       "1   \\r\\n69,9            GRS, CU-1085700  PETA approved vegan     NaN  \n",
       "2  \\r\\n119,9        PETA approved vegan                  NaN     NaN  \n",
       "3   \\r\\n99,9  GOTS, organic, CU-1085700  PETA approved vegan     NaN  \n",
       "4   \\r\\n99,9  GOTS, organic, CU-1085700  PETA approved vegan     NaN  "
      ]
     },
     "execution_count": 20,
     "metadata": {},
     "output_type": "execute_result"
    }
   ],
   "source": [
    "df_Armed_clothes.head()"
   ]
  },
  {
   "cell_type": "code",
   "execution_count": 21,
   "id": "c839bec5",
   "metadata": {},
   "outputs": [
    {
     "name": "stdout",
     "output_type": "stream",
     "text": [
      "<class 'pandas.core.frame.DataFrame'>\n",
      "RangeIndex: 59 entries, 0 to 58\n",
      "Data columns (total 9 columns):\n",
      " #   Column      Non-Null Count  Dtype  \n",
      "---  ------      --------------  -----  \n",
      " 0   Unnamed: 0  59 non-null     int64  \n",
      " 1   product_id  59 non-null     int64  \n",
      " 2   gender      59 non-null     object \n",
      " 3   clothes     59 non-null     object \n",
      " 4   color       59 non-null     object \n",
      " 5   price       59 non-null     object \n",
      " 6   label1      58 non-null     object \n",
      " 7   label2      45 non-null     object \n",
      " 8   label3      0 non-null      float64\n",
      "dtypes: float64(1), int64(2), object(6)\n",
      "memory usage: 4.3+ KB\n"
     ]
    }
   ],
   "source": [
    "df_Armed_clothes.info()"
   ]
  },
  {
   "cell_type": "markdown",
   "id": "39385f0f",
   "metadata": {},
   "source": [
    "## Clean Data_frame_clothes"
   ]
  },
  {
   "cell_type": "code",
   "execution_count": 22,
   "id": "22139f57",
   "metadata": {},
   "outputs": [
    {
     "data": {
      "text/html": [
       "<div>\n",
       "<style scoped>\n",
       "    .dataframe tbody tr th:only-of-type {\n",
       "        vertical-align: middle;\n",
       "    }\n",
       "\n",
       "    .dataframe tbody tr th {\n",
       "        vertical-align: top;\n",
       "    }\n",
       "\n",
       "    .dataframe thead th {\n",
       "        text-align: right;\n",
       "    }\n",
       "</style>\n",
       "<table border=\"1\" class=\"dataframe\">\n",
       "  <thead>\n",
       "    <tr style=\"text-align: right;\">\n",
       "      <th></th>\n",
       "      <th>product_id</th>\n",
       "      <th>gender</th>\n",
       "      <th>clothes</th>\n",
       "      <th>color</th>\n",
       "      <th>price</th>\n",
       "      <th>label1</th>\n",
       "      <th>label2</th>\n",
       "    </tr>\n",
       "  </thead>\n",
       "  <tbody>\n",
       "    <tr>\n",
       "      <th>0</th>\n",
       "      <td>7930</td>\n",
       "      <td>femme</td>\n",
       "      <td>hose</td>\n",
       "      <td>warm blue</td>\n",
       "      <td>69.9</td>\n",
       "      <td>peta</td>\n",
       "      <td>nan</td>\n",
       "    </tr>\n",
       "    <tr>\n",
       "      <th>1</th>\n",
       "      <td>4583</td>\n",
       "      <td>homme</td>\n",
       "      <td>sweatshirt</td>\n",
       "      <td>morning sky</td>\n",
       "      <td>69.9</td>\n",
       "      <td>grs</td>\n",
       "      <td>peta</td>\n",
       "    </tr>\n",
       "    <tr>\n",
       "      <th>2</th>\n",
       "      <td>2609</td>\n",
       "      <td>homme</td>\n",
       "      <td>jeans</td>\n",
       "      <td>shower</td>\n",
       "      <td>119.9</td>\n",
       "      <td>peta</td>\n",
       "      <td>nan</td>\n",
       "    </tr>\n",
       "    <tr>\n",
       "      <th>3</th>\n",
       "      <td>6175</td>\n",
       "      <td>femme</td>\n",
       "      <td>jeans</td>\n",
       "      <td>washed down black</td>\n",
       "      <td>99.9</td>\n",
       "      <td>gots</td>\n",
       "      <td>peta</td>\n",
       "    </tr>\n",
       "    <tr>\n",
       "      <th>4</th>\n",
       "      <td>1789</td>\n",
       "      <td>femme</td>\n",
       "      <td>jeans</td>\n",
       "      <td>basic</td>\n",
       "      <td>99.9</td>\n",
       "      <td>gots</td>\n",
       "      <td>peta</td>\n",
       "    </tr>\n",
       "  </tbody>\n",
       "</table>\n",
       "</div>"
      ],
      "text/plain": [
       "  product_id gender     clothes              color  price label1 label2\n",
       "0       7930  femme        hose          warm blue   69.9   peta    nan\n",
       "1       4583  homme  sweatshirt        morning sky   69.9    grs   peta\n",
       "2       2609  homme       jeans             shower  119.9   peta    nan\n",
       "3       6175  femme       jeans  washed down black   99.9   gots   peta\n",
       "4       1789  femme       jeans              basic   99.9   gots   peta"
      ]
     },
     "execution_count": 22,
     "metadata": {},
     "output_type": "execute_result"
    }
   ],
   "source": [
    "#Supprimer la colonne \"unnamed: 0 car elle ne sert à rien\"\n",
    "df_Armed_clothes.drop(columns = [\"Unnamed: 0\", \"label3\"], inplace = True)\n",
    "\n",
    "#nettoyer la colonne price et modifier le  type en float\n",
    "df_Armed_clothes['price'] = df_Armed_clothes['price'].astype(str)\n",
    "df_Armed_clothes['price'] = df_Armed_clothes['price'].str.replace(',', '.')\n",
    "df_Armed_clothes['price'] = df_Armed_clothes['price'].apply(lambda x : x.split('\\n')[1])\n",
    "df_Armed_clothes['price'] = df_Armed_clothes['price'].astype(float)\n",
    "\n",
    "#nettoyage de la colonne color\n",
    "df_Armed_clothes['color'] = df_Armed_clothes['color'].str.replace('\\n','').str.replace('\\r','')\n",
    "\n",
    "#nettoyer les colonnes label1 et label2\n",
    "df_Armed_clothes['label1'] = df_Armed_clothes['label1'].astype(str)\n",
    "df_Armed_clothes['label2'] = df_Armed_clothes['label2'].astype(str)\n",
    "df_Armed_clothes[\"label1\"] = df_Armed_clothes[\"label1\"].apply(lambda x : x.split(\" \")[0])\n",
    "df_Armed_clothes[\"label2\"] = df_Armed_clothes[\"label2\"].apply(lambda x : x.split(\" \")[0])\n",
    "df_Armed_clothes['label1'] = df_Armed_clothes['label1'].str.replace(\",\",\"\")\n",
    "\n",
    "\n",
    "# modifier le type de product_id en string\n",
    "df_Armed_clothes['product_id'] = df_Armed_clothes['product_id'].astype(str)\n",
    "\n",
    "#Mettre les champs en minuscules\n",
    "df_Armed_clothes = df_Armed_clothes.applymap(lambda x: x.lower() if isinstance(x, str) else x)\n",
    "\n",
    "# Mettre les noms de colonnes en minuscules\n",
    "df_Armed_clothes.rename(columns=lambda x: x.lower(), inplace=True)\n",
    "\n",
    "\n",
    "df_Armed_clothes.head()"
   ]
  },
  {
   "cell_type": "code",
   "execution_count": 23,
   "id": "f3132658",
   "metadata": {},
   "outputs": [
    {
     "data": {
      "text/plain": [
       "array(['hose', 'sweatshirt', 'jeans', 't-shirt', 'shorts'], dtype=object)"
      ]
     },
     "execution_count": 23,
     "metadata": {},
     "output_type": "execute_result"
    }
   ],
   "source": [
    "df_Armed_clothes[\"clothes\"].unique()"
   ]
  },
  {
   "cell_type": "code",
   "execution_count": 24,
   "id": "1c86b93d",
   "metadata": {},
   "outputs": [
    {
     "data": {
      "text/plain": [
       "array(['Bas', 'Hauts'], dtype=object)"
      ]
     },
     "execution_count": 24,
     "metadata": {},
     "output_type": "execute_result"
    }
   ],
   "source": [
    "category_mapping = {'t-shirt' : 'Hauts', 'hose' : 'Bas', 'sweatshirt' : 'Hauts', 'jeans' : 'Bas', 'shorts' : 'Bas'}\n",
    "\n",
    "df_Armed_clothes['clothes'] = df_Armed_clothes['clothes'].replace(category_mapping)\n",
    "df_Armed_clothes.rename(columns = {\"clothes\":\"categories_clothes\"} , inplace=True)\n",
    "df_Armed_clothes.categories_clothes.unique()"
   ]
  },
  {
   "cell_type": "code",
   "execution_count": 25,
   "id": "bd7efd2a",
   "metadata": {
    "scrolled": true
   },
   "outputs": [
    {
     "name": "stdout",
     "output_type": "stream",
     "text": [
      "<class 'pandas.core.frame.DataFrame'>\n",
      "RangeIndex: 59 entries, 0 to 58\n",
      "Data columns (total 7 columns):\n",
      " #   Column              Non-Null Count  Dtype  \n",
      "---  ------              --------------  -----  \n",
      " 0   product_id          59 non-null     object \n",
      " 1   gender              59 non-null     object \n",
      " 2   categories_clothes  59 non-null     object \n",
      " 3   color               59 non-null     object \n",
      " 4   price               59 non-null     float64\n",
      " 5   label1              59 non-null     object \n",
      " 6   label2              59 non-null     object \n",
      "dtypes: float64(1), object(6)\n",
      "memory usage: 3.4+ KB\n"
     ]
    }
   ],
   "source": [
    "df_Armed_clothes.info()"
   ]
  },
  {
   "cell_type": "markdown",
   "id": "6f521cf2",
   "metadata": {},
   "source": [
    "## DATA Visualisation "
   ]
  },
  {
   "cell_type": "code",
   "execution_count": 26,
   "id": "d7c74372",
   "metadata": {},
   "outputs": [
    {
     "data": {
      "text/plain": [
       "Text(0.5, 0, 'prix')"
      ]
     },
     "execution_count": 26,
     "metadata": {},
     "output_type": "execute_result"
    },
    {
     "data": {
      "image/png": "[encoded data removed]",
      "text/plain": [
       "<Figure size 432x288 with 1 Axes>"
      ]
     },
     "metadata": {
      "needs_background": "light"
     },
     "output_type": "display_data"
    }
   ],
   "source": [
    "plt.hist(df_Armed_clothes[\"price\"], bins = 10, range = (0,200))\n",
    "plt.title(\"Répartition des prix\")\n",
    "plt.ylabel(\"nombre de produits\")\n",
    "plt.xlabel(\"prix\")"
   ]
  },
  {
   "cell_type": "markdown",
   "id": "1813c1f7",
   "metadata": {},
   "source": [
    "# Armed_composition"
   ]
  },
  {
   "cell_type": "code",
   "execution_count": 27,
   "id": "de4a995e",
   "metadata": {},
   "outputs": [],
   "source": [
    "df_Armed_composition = pd.read_csv(\"armed_composition.csv\")"
   ]
  },
  {
   "cell_type": "code",
   "execution_count": 28,
   "id": "4eb1aaf4",
   "metadata": {},
   "outputs": [
    {
     "data": {
      "text/html": [
       "<div>\n",
       "<style scoped>\n",
       "    .dataframe tbody tr th:only-of-type {\n",
       "        vertical-align: middle;\n",
       "    }\n",
       "\n",
       "    .dataframe tbody tr th {\n",
       "        vertical-align: top;\n",
       "    }\n",
       "\n",
       "    .dataframe thead th {\n",
       "        text-align: right;\n",
       "    }\n",
       "</style>\n",
       "<table border=\"1\" class=\"dataframe\">\n",
       "  <thead>\n",
       "    <tr style=\"text-align: right;\">\n",
       "      <th></th>\n",
       "      <th>Unnamed: 0</th>\n",
       "      <th>product_id</th>\n",
       "      <th>material</th>\n",
       "      <th>percentage</th>\n",
       "    </tr>\n",
       "  </thead>\n",
       "  <tbody>\n",
       "    <tr>\n",
       "      <th>0</th>\n",
       "      <td>0</td>\n",
       "      <td>7930</td>\n",
       "      <td>viscose (LENZING™ ECOVERO™)</td>\n",
       "      <td>96.0</td>\n",
       "    </tr>\n",
       "    <tr>\n",
       "      <th>1</th>\n",
       "      <td>1</td>\n",
       "      <td>7930</td>\n",
       "      <td>élasthanne</td>\n",
       "      <td>4.0</td>\n",
       "    </tr>\n",
       "    <tr>\n",
       "      <th>2</th>\n",
       "      <td>2</td>\n",
       "      <td>4583</td>\n",
       "      <td>coton (biologique)</td>\n",
       "      <td>50.0</td>\n",
       "    </tr>\n",
       "    <tr>\n",
       "      <th>3</th>\n",
       "      <td>3</td>\n",
       "      <td>4583</td>\n",
       "      <td>coton (recyclé)</td>\n",
       "      <td>50.0</td>\n",
       "    </tr>\n",
       "    <tr>\n",
       "      <th>4</th>\n",
       "      <td>4</td>\n",
       "      <td>2609</td>\n",
       "      <td>coton (recyclé)</td>\n",
       "      <td>100.0</td>\n",
       "    </tr>\n",
       "  </tbody>\n",
       "</table>\n",
       "</div>"
      ],
      "text/plain": [
       "   Unnamed: 0  product_id                     material  percentage\n",
       "0           0        7930  viscose (LENZING™ ECOVERO™)        96.0\n",
       "1           1        7930                   élasthanne         4.0\n",
       "2           2        4583           coton (biologique)        50.0\n",
       "3           3        4583              coton (recyclé)        50.0\n",
       "4           4        2609              coton (recyclé)       100.0"
      ]
     },
     "execution_count": 28,
     "metadata": {},
     "output_type": "execute_result"
    }
   ],
   "source": [
    "df_Armed_composition.head()"
   ]
  },
  {
   "cell_type": "code",
   "execution_count": 29,
   "id": "f81d77a5",
   "metadata": {},
   "outputs": [
    {
     "name": "stdout",
     "output_type": "stream",
     "text": [
      "<class 'pandas.core.frame.DataFrame'>\n",
      "RangeIndex: 91 entries, 0 to 90\n",
      "Data columns (total 4 columns):\n",
      " #   Column      Non-Null Count  Dtype  \n",
      "---  ------      --------------  -----  \n",
      " 0   Unnamed: 0  91 non-null     int64  \n",
      " 1   product_id  91 non-null     int64  \n",
      " 2   material    91 non-null     object \n",
      " 3   percentage  91 non-null     float64\n",
      "dtypes: float64(1), int64(2), object(1)\n",
      "memory usage: 3.0+ KB\n"
     ]
    }
   ],
   "source": [
    "df_Armed_composition.info()"
   ]
  },
  {
   "cell_type": "markdown",
   "id": "f0728fa4",
   "metadata": {},
   "source": [
    "## Clean Data_frame_compositions"
   ]
  },
  {
   "cell_type": "code",
   "execution_count": 30,
   "id": "2e3bce41",
   "metadata": {},
   "outputs": [
    {
     "data": {
      "text/plain": [
       "array(['viscose (LENZING™ ECOVERO™)', 'élasthanne', 'coton (biologique)',\n",
       "       'coton (recyclé)', 'polyester (recyclé)', 'coton (recyclÃ©)',\n",
       "       'Spandex', 'de laine de bœuf (biologique)',\n",
       "       'de laine de bœuf (réutilisée)'], dtype=object)"
      ]
     },
     "execution_count": 30,
     "metadata": {},
     "output_type": "execute_result"
    }
   ],
   "source": [
    "df_Armed_composition[\"material\"].unique()"
   ]
  },
  {
   "cell_type": "code",
   "execution_count": 31,
   "id": "fa31251f",
   "metadata": {},
   "outputs": [
    {
     "data": {
      "text/html": [
       "<div>\n",
       "<style scoped>\n",
       "    .dataframe tbody tr th:only-of-type {\n",
       "        vertical-align: middle;\n",
       "    }\n",
       "\n",
       "    .dataframe tbody tr th {\n",
       "        vertical-align: top;\n",
       "    }\n",
       "\n",
       "    .dataframe thead th {\n",
       "        text-align: right;\n",
       "    }\n",
       "</style>\n",
       "<table border=\"1\" class=\"dataframe\">\n",
       "  <thead>\n",
       "    <tr style=\"text-align: right;\">\n",
       "      <th></th>\n",
       "      <th>product_id</th>\n",
       "      <th>material</th>\n",
       "      <th>percentage</th>\n",
       "    </tr>\n",
       "  </thead>\n",
       "  <tbody>\n",
       "    <tr>\n",
       "      <th>0</th>\n",
       "      <td>7930</td>\n",
       "      <td>viscose (lenzing™ ecovero™)</td>\n",
       "      <td>96.0</td>\n",
       "    </tr>\n",
       "    <tr>\n",
       "      <th>1</th>\n",
       "      <td>7930</td>\n",
       "      <td>élasthanne</td>\n",
       "      <td>4.0</td>\n",
       "    </tr>\n",
       "    <tr>\n",
       "      <th>2</th>\n",
       "      <td>4583</td>\n",
       "      <td>coton (bio)</td>\n",
       "      <td>50.0</td>\n",
       "    </tr>\n",
       "    <tr>\n",
       "      <th>3</th>\n",
       "      <td>4583</td>\n",
       "      <td>coton (recyclé)</td>\n",
       "      <td>50.0</td>\n",
       "    </tr>\n",
       "    <tr>\n",
       "      <th>4</th>\n",
       "      <td>2609</td>\n",
       "      <td>coton (recyclé)</td>\n",
       "      <td>100.0</td>\n",
       "    </tr>\n",
       "  </tbody>\n",
       "</table>\n",
       "</div>"
      ],
      "text/plain": [
       "  product_id                     material  percentage\n",
       "0       7930  viscose (lenzing™ ecovero™)        96.0\n",
       "1       7930                   élasthanne         4.0\n",
       "2       4583                  coton (bio)        50.0\n",
       "3       4583              coton (recyclé)        50.0\n",
       "4       2609              coton (recyclé)       100.0"
      ]
     },
     "execution_count": 31,
     "metadata": {},
     "output_type": "execute_result"
    }
   ],
   "source": [
    "#Supprimer la colonne \"unnamed: 0 car elle ne sert à rien\"\n",
    "df_Armed_composition.drop(columns = \"Unnamed: 0\", inplace = True)\n",
    "\n",
    "# modifier le type de product_id en string\n",
    "df_Armed_composition['product_id'] = df_Armed_composition['product_id'].astype(str)\n",
    "\n",
    "#Mettre les champs en minuscules\n",
    "df_Armed_composition = df_Armed_composition.applymap(lambda x: x.lower() if isinstance(x, str) else x)\n",
    "\n",
    "# Mettre les noms de colonnes en minuscules\n",
    "df_Armed_composition.rename(columns=lambda x: x.lower(), inplace=True)\n",
    "\n",
    "#Créer un dictionaire pour les modifications\n",
    "mapping_material = {'coton (biologique)' : 'coton (bio)', 'coton (recyclã©)' : 'coton (recyclé)', 'elasthan' : 'élasthanne',\n",
    "                   'hanffaser' : 'Fibre de chanvre', 'baumwool (biologique)' : 'coton (bio)', 'spandex' : 'élasthanne'}\n",
    "\n",
    "#Appliquer les modifications grâce au dictionnaire précédent\n",
    "df_Armed_composition['material'] = df_Armed_composition['material'].replace(mapping_material)\n",
    "\n",
    "df_Armed_composition.head()"
   ]
  },
  {
   "cell_type": "code",
   "execution_count": 32,
   "id": "57ac083e",
   "metadata": {},
   "outputs": [
    {
     "data": {
      "text/plain": [
       "array(['viscose (lenzing™ ecovero™)', 'élasthanne', 'coton (bio)',\n",
       "       'coton (recyclé)', 'polyester (recyclé)',\n",
       "       'de laine de bœuf (biologique)', 'de laine de bœuf (réutilisée)'],\n",
       "      dtype=object)"
      ]
     },
     "execution_count": 32,
     "metadata": {},
     "output_type": "execute_result"
    }
   ],
   "source": [
    "df_Armed_composition[\"material\"].unique()"
   ]
  },
  {
   "cell_type": "markdown",
   "id": "40fc60fd",
   "metadata": {},
   "source": [
    "## DATA Visualisation"
   ]
  },
  {
   "cell_type": "code",
   "execution_count": 33,
   "id": "ddc16160",
   "metadata": {},
   "outputs": [
    {
     "data": {
      "image/png": "[encoded data removed]",
      "text/plain": [
       "<Figure size 720x1152 with 1 Axes>"
      ]
     },
     "metadata": {
      "needs_background": "light"
     },
     "output_type": "display_data"
    }
   ],
   "source": [
    "nbre_col_unique = len(df_Armed_composition[\"material\"].unique())\n",
    "cmap = plt.get_cmap('winter_r')\n",
    "norm = Normalize(vmin=0, vmax=nbre_col_unique)\n",
    "opts = dict( \n",
    "    kind='barh',   #indique que nous allons tracer un graphique en barres horizontales\n",
    "    width=0.8,     #définit la largeur des barres\n",
    "    figsize = (10,16), #définit la taille de la figure à 5 pouces de large et 8 pouces de hauteur\n",
    "    xlabel = 'Liste des matériaux',  #définit l'étiquette de l'axe x\n",
    "    color = cmap(norm(sorted((list(range(nbre_col_unique)))))), # définit la couleur des barres en utilisant une colormap (cmap) normalisée (norm) basée\n",
    "    legend = False, #désactive l'affichage de la légende\n",
    "    alpha = 0.8  #définit la transparence des barres \n",
    ")\n",
    "\n",
    "ax = ( \n",
    "    df_Armed_composition.groupby(\"material\")\n",
    "    .size()\n",
    "    .sort_values(ascending=True)\n",
    "    .plot(y='nombre de materiaux', **opts)\n",
    ")\n",
    "\n",
    "ax.set_xscale(\"log\")\n",
    "ax.set_xlabel(\"nombre de materiaux\")\n",
    "\n",
    "ax.bar_label(ax.containers[0],padding=2)\n",
    "ax.set_title('Répartition des matériaux dans les produits Armed')\n",
    "ax.grid(axis='x', color='lightgrey', zorder=10)"
   ]
  },
  {
   "cell_type": "markdown",
   "id": "a1f32ba1",
   "metadata": {},
   "source": [
    "# ArmedAngels Supplier"
   ]
  },
  {
   "cell_type": "code",
   "execution_count": 34,
   "id": "cbc753f4",
   "metadata": {},
   "outputs": [],
   "source": [
    "df_Armed_supplier = pd.read_csv(\"armed_supplier.csv\")"
   ]
  },
  {
   "cell_type": "code",
   "execution_count": 35,
   "id": "87a5d214",
   "metadata": {},
   "outputs": [
    {
     "data": {
      "text/html": [
       "<div>\n",
       "<style scoped>\n",
       "    .dataframe tbody tr th:only-of-type {\n",
       "        vertical-align: middle;\n",
       "    }\n",
       "\n",
       "    .dataframe tbody tr th {\n",
       "        vertical-align: top;\n",
       "    }\n",
       "\n",
       "    .dataframe thead th {\n",
       "        text-align: right;\n",
       "    }\n",
       "</style>\n",
       "<table border=\"1\" class=\"dataframe\">\n",
       "  <thead>\n",
       "    <tr style=\"text-align: right;\">\n",
       "      <th></th>\n",
       "      <th>Unnamed: 0</th>\n",
       "      <th>product_id</th>\n",
       "      <th>company</th>\n",
       "      <th>country</th>\n",
       "    </tr>\n",
       "  </thead>\n",
       "  <tbody>\n",
       "    <tr>\n",
       "      <th>0</th>\n",
       "      <td>0</td>\n",
       "      <td>7930</td>\n",
       "      <td>Valerius Valérius Têxteis S.A.</td>\n",
       "      <td>Barcelos, Portugal</td>\n",
       "    </tr>\n",
       "    <tr>\n",
       "      <th>1</th>\n",
       "      <td>1</td>\n",
       "      <td>4583</td>\n",
       "      <td>Valerius Valérius Têxteis S.A.</td>\n",
       "      <td>Barcelos, Portugal</td>\n",
       "    </tr>\n",
       "    <tr>\n",
       "      <th>2</th>\n",
       "      <td>2</td>\n",
       "      <td>2609</td>\n",
       "      <td>Denim Authority</td>\n",
       "      <td>Ras Jebel, Tunisie</td>\n",
       "    </tr>\n",
       "    <tr>\n",
       "      <th>3</th>\n",
       "      <td>3</td>\n",
       "      <td>6175</td>\n",
       "      <td>Denim Authority</td>\n",
       "      <td>Ras Jebel, Tunisie</td>\n",
       "    </tr>\n",
       "    <tr>\n",
       "      <th>4</th>\n",
       "      <td>4</td>\n",
       "      <td>1789</td>\n",
       "      <td>Denim Authority</td>\n",
       "      <td>Ras Jebel, Tunisie</td>\n",
       "    </tr>\n",
       "  </tbody>\n",
       "</table>\n",
       "</div>"
      ],
      "text/plain": [
       "   Unnamed: 0  product_id                         company             country\n",
       "0           0        7930  Valerius Valérius Têxteis S.A.  Barcelos, Portugal\n",
       "1           1        4583  Valerius Valérius Têxteis S.A.  Barcelos, Portugal\n",
       "2           2        2609                 Denim Authority  Ras Jebel, Tunisie\n",
       "3           3        6175                 Denim Authority  Ras Jebel, Tunisie\n",
       "4           4        1789                 Denim Authority  Ras Jebel, Tunisie"
      ]
     },
     "execution_count": 35,
     "metadata": {},
     "output_type": "execute_result"
    }
   ],
   "source": [
    "df_Armed_supplier.head()"
   ]
  },
  {
   "cell_type": "code",
   "execution_count": 36,
   "id": "5c092435",
   "metadata": {},
   "outputs": [
    {
     "name": "stdout",
     "output_type": "stream",
     "text": [
      "<class 'pandas.core.frame.DataFrame'>\n",
      "RangeIndex: 59 entries, 0 to 58\n",
      "Data columns (total 4 columns):\n",
      " #   Column      Non-Null Count  Dtype \n",
      "---  ------      --------------  ----- \n",
      " 0   Unnamed: 0  59 non-null     int64 \n",
      " 1   product_id  59 non-null     int64 \n",
      " 2   company     59 non-null     object\n",
      " 3   country     59 non-null     object\n",
      "dtypes: int64(2), object(2)\n",
      "memory usage: 2.0+ KB\n"
     ]
    }
   ],
   "source": [
    "df_Armed_supplier.info()"
   ]
  },
  {
   "cell_type": "markdown",
   "id": "ecdbcfdf",
   "metadata": {},
   "source": [
    "## Clean Data_frame_supplier"
   ]
  },
  {
   "cell_type": "code",
   "execution_count": 37,
   "id": "a726c9b0",
   "metadata": {},
   "outputs": [],
   "source": [
    "#supprimer la colonne Unnamed: 0 car elle ne sert à rien\n",
    "df_Armed_supplier.drop(columns = \"Unnamed: 0\", inplace = True)\n",
    "\n",
    "#Mettre les champs en minuscules\n",
    "df_Armed_supplier = df_Armed_supplier.applymap(lambda x: x.lower() if isinstance(x, str) else x)\n",
    "\n",
    "# modifier le type de product_id en string\n",
    "df_Armed_supplier['product_id'] = df_Armed_supplier['product_id'].astype(str)\n",
    "\n",
    "#Récupérer uniquement le pays et pas les ville dans la colonne country\n",
    "df_Armed_supplier[\"country\"] = df_Armed_supplier[\"country\"].astype(str)\n",
    "df_Armed_supplier[\"country\"] = df_Armed_supplier[\"country\"].apply(lambda x : x.split(\", \")[1])"
   ]
  },
  {
   "cell_type": "code",
   "execution_count": 38,
   "id": "fb4c5908",
   "metadata": {},
   "outputs": [
    {
     "data": {
      "text/html": [
       "<div>\n",
       "<style scoped>\n",
       "    .dataframe tbody tr th:only-of-type {\n",
       "        vertical-align: middle;\n",
       "    }\n",
       "\n",
       "    .dataframe tbody tr th {\n",
       "        vertical-align: top;\n",
       "    }\n",
       "\n",
       "    .dataframe thead th {\n",
       "        text-align: right;\n",
       "    }\n",
       "</style>\n",
       "<table border=\"1\" class=\"dataframe\">\n",
       "  <thead>\n",
       "    <tr style=\"text-align: right;\">\n",
       "      <th></th>\n",
       "      <th>product_id</th>\n",
       "      <th>company</th>\n",
       "      <th>country</th>\n",
       "    </tr>\n",
       "  </thead>\n",
       "  <tbody>\n",
       "    <tr>\n",
       "      <th>0</th>\n",
       "      <td>7930</td>\n",
       "      <td>valerius valérius têxteis s.a.</td>\n",
       "      <td>portugal</td>\n",
       "    </tr>\n",
       "    <tr>\n",
       "      <th>1</th>\n",
       "      <td>4583</td>\n",
       "      <td>valerius valérius têxteis s.a.</td>\n",
       "      <td>portugal</td>\n",
       "    </tr>\n",
       "    <tr>\n",
       "      <th>2</th>\n",
       "      <td>2609</td>\n",
       "      <td>denim authority</td>\n",
       "      <td>tunisie</td>\n",
       "    </tr>\n",
       "    <tr>\n",
       "      <th>3</th>\n",
       "      <td>6175</td>\n",
       "      <td>denim authority</td>\n",
       "      <td>tunisie</td>\n",
       "    </tr>\n",
       "    <tr>\n",
       "      <th>4</th>\n",
       "      <td>1789</td>\n",
       "      <td>denim authority</td>\n",
       "      <td>tunisie</td>\n",
       "    </tr>\n",
       "  </tbody>\n",
       "</table>\n",
       "</div>"
      ],
      "text/plain": [
       "  product_id                         company   country\n",
       "0       7930  valerius valérius têxteis s.a.  portugal\n",
       "1       4583  valerius valérius têxteis s.a.  portugal\n",
       "2       2609                 denim authority   tunisie\n",
       "3       6175                 denim authority   tunisie\n",
       "4       1789                 denim authority   tunisie"
      ]
     },
     "execution_count": 38,
     "metadata": {},
     "output_type": "execute_result"
    }
   ],
   "source": [
    "df_Armed_supplier.head()"
   ]
  },
  {
   "cell_type": "code",
   "execution_count": 40,
   "id": "5f7b617d",
   "metadata": {},
   "outputs": [
    {
     "name": "stdout",
     "output_type": "stream",
     "text": [
      "<class 'pandas.core.frame.DataFrame'>\n",
      "RangeIndex: 59 entries, 0 to 58\n",
      "Data columns (total 3 columns):\n",
      " #   Column      Non-Null Count  Dtype \n",
      "---  ------      --------------  ----- \n",
      " 0   product_id  59 non-null     object\n",
      " 1   company     59 non-null     object\n",
      " 2   country     59 non-null     object\n",
      "dtypes: object(3)\n",
      "memory usage: 1.5+ KB\n"
     ]
    }
   ],
   "source": [
    "df_Armed_supplier.info()"
   ]
  },
  {
   "cell_type": "markdown",
   "id": "c0f8b853",
   "metadata": {},
   "source": [
    "## DATA Visualisation"
   ]
  },
  {
   "cell_type": "code",
   "execution_count": 23,
   "id": "86e2790c",
   "metadata": {},
   "outputs": [
    {
     "data": {
      "image/png": "[encoded data removed]",
      "text/plain": [
       "<Figure size 1000x1000 with 1 Axes>"
      ]
     },
     "metadata": {},
     "output_type": "display_data"
    }
   ],
   "source": [
    "# Regrouper les produits par pays et compter le nombre de produits pour chaque pays\n",
    "produits_par_pays = (\n",
    "    df_Armed_supplier\n",
    "    .groupby('country')\n",
    "    .agg(nombre_produits=(\"product_id\", \"count\"))\n",
    "    .reset_index()\n",
    ")\n",
    "\n",
    "# Calculer le pourcentage pour chaque tranche\n",
    "produits_par_pays['pourcentage'] = produits_par_pays['nombre_produits'] / produits_par_pays['nombre_produits'].sum() * 100\n",
    "\n",
    "# Regrouper les pays avec un pourcentage inférieur à 2% dans une seule catégorie \"Autres\"\n",
    "seuil = 2\n",
    "produits_par_pays.loc[produits_par_pays['pourcentage'] < seuil, 'country'] = 'Autres'\n",
    "produits_par_pays = (\n",
    "    produits_par_pays\n",
    "    .groupby('country')\n",
    "    .agg(nombre_produits=(\"nombre_produits\", \"sum\"), pourcentage=(\"pourcentage\", \"sum\"))\n",
    "    .sort_values(by = \"nombre_produits\",ascending = False)\n",
    "    .reset_index()\n",
    ")\n",
    "\n",
    "\n",
    "# Tracer le diagramme circulaire à l'aide de matplotlib\n",
    "plt.figure(figsize=(10,10))\n",
    "plt.pie(\n",
    "    produits_par_pays['nombre_produits'], \n",
    "    labels=produits_par_pays['country'], \n",
    "    autopct=lambda pct: f\"{pct:.1f}%\" if pct >= seuil else \"\",\n",
    "    textprops={'fontsize': 12}\n",
    ")\n",
    "plt.title('Répartition des produits par pays')\n",
    "plt.show()"
   ]
  },
  {
   "cell_type": "markdown",
   "id": "b9f85adf",
   "metadata": {},
   "source": [
    "# DATA Armed"
   ]
  },
  {
   "cell_type": "code",
   "execution_count": 41,
   "id": "db50b2e1",
   "metadata": {},
   "outputs": [],
   "source": [
    "df_Armed = pd.merge(df_Armed_composition, df_Armed_clothes, on = \"product_id\", how = \"left\")"
   ]
  },
  {
   "cell_type": "code",
   "execution_count": 42,
   "id": "d29cd6e4",
   "metadata": {},
   "outputs": [],
   "source": [
    "df_Armed = df_Armed.merge(df_Armed_supplier, on = \"product_id\", how = \"left\")"
   ]
  },
  {
   "cell_type": "code",
   "execution_count": 43,
   "id": "34d29166",
   "metadata": {},
   "outputs": [
    {
     "data": {
      "text/html": [
       "<div>\n",
       "<style scoped>\n",
       "    .dataframe tbody tr th:only-of-type {\n",
       "        vertical-align: middle;\n",
       "    }\n",
       "\n",
       "    .dataframe tbody tr th {\n",
       "        vertical-align: top;\n",
       "    }\n",
       "\n",
       "    .dataframe thead th {\n",
       "        text-align: right;\n",
       "    }\n",
       "</style>\n",
       "<table border=\"1\" class=\"dataframe\">\n",
       "  <thead>\n",
       "    <tr style=\"text-align: right;\">\n",
       "      <th></th>\n",
       "      <th>product_id</th>\n",
       "      <th>material</th>\n",
       "      <th>percentage</th>\n",
       "      <th>gender</th>\n",
       "      <th>categories_clothes</th>\n",
       "      <th>color</th>\n",
       "      <th>price</th>\n",
       "      <th>label1</th>\n",
       "      <th>label2</th>\n",
       "      <th>company</th>\n",
       "      <th>country</th>\n",
       "    </tr>\n",
       "  </thead>\n",
       "  <tbody>\n",
       "    <tr>\n",
       "      <th>0</th>\n",
       "      <td>7930</td>\n",
       "      <td>viscose (lenzing™ ecovero™)</td>\n",
       "      <td>96.0</td>\n",
       "      <td>femme</td>\n",
       "      <td>Bas</td>\n",
       "      <td>warm blue</td>\n",
       "      <td>69.9</td>\n",
       "      <td>peta</td>\n",
       "      <td>nan</td>\n",
       "      <td>valerius valérius têxteis s.a.</td>\n",
       "      <td>portugal</td>\n",
       "    </tr>\n",
       "    <tr>\n",
       "      <th>1</th>\n",
       "      <td>7930</td>\n",
       "      <td>élasthanne</td>\n",
       "      <td>4.0</td>\n",
       "      <td>femme</td>\n",
       "      <td>Bas</td>\n",
       "      <td>warm blue</td>\n",
       "      <td>69.9</td>\n",
       "      <td>peta</td>\n",
       "      <td>nan</td>\n",
       "      <td>valerius valérius têxteis s.a.</td>\n",
       "      <td>portugal</td>\n",
       "    </tr>\n",
       "    <tr>\n",
       "      <th>2</th>\n",
       "      <td>4583</td>\n",
       "      <td>coton (bio)</td>\n",
       "      <td>50.0</td>\n",
       "      <td>homme</td>\n",
       "      <td>Hauts</td>\n",
       "      <td>morning sky</td>\n",
       "      <td>69.9</td>\n",
       "      <td>grs</td>\n",
       "      <td>peta</td>\n",
       "      <td>valerius valérius têxteis s.a.</td>\n",
       "      <td>portugal</td>\n",
       "    </tr>\n",
       "    <tr>\n",
       "      <th>3</th>\n",
       "      <td>4583</td>\n",
       "      <td>coton (recyclé)</td>\n",
       "      <td>50.0</td>\n",
       "      <td>homme</td>\n",
       "      <td>Hauts</td>\n",
       "      <td>morning sky</td>\n",
       "      <td>69.9</td>\n",
       "      <td>grs</td>\n",
       "      <td>peta</td>\n",
       "      <td>valerius valérius têxteis s.a.</td>\n",
       "      <td>portugal</td>\n",
       "    </tr>\n",
       "    <tr>\n",
       "      <th>4</th>\n",
       "      <td>2609</td>\n",
       "      <td>coton (recyclé)</td>\n",
       "      <td>100.0</td>\n",
       "      <td>homme</td>\n",
       "      <td>Bas</td>\n",
       "      <td>shower</td>\n",
       "      <td>119.9</td>\n",
       "      <td>peta</td>\n",
       "      <td>nan</td>\n",
       "      <td>denim authority</td>\n",
       "      <td>tunisie</td>\n",
       "    </tr>\n",
       "  </tbody>\n",
       "</table>\n",
       "</div>"
      ],
      "text/plain": [
       "  product_id                     material  percentage gender  \\\n",
       "0       7930  viscose (lenzing™ ecovero™)        96.0  femme   \n",
       "1       7930                   élasthanne         4.0  femme   \n",
       "2       4583                  coton (bio)        50.0  homme   \n",
       "3       4583              coton (recyclé)        50.0  homme   \n",
       "4       2609              coton (recyclé)       100.0  homme   \n",
       "\n",
       "  categories_clothes        color  price label1 label2  \\\n",
       "0                Bas    warm blue   69.9   peta    nan   \n",
       "1                Bas    warm blue   69.9   peta    nan   \n",
       "2              Hauts  morning sky   69.9    grs   peta   \n",
       "3              Hauts  morning sky   69.9    grs   peta   \n",
       "4                Bas       shower  119.9   peta    nan   \n",
       "\n",
       "                          company   country  \n",
       "0  valerius valérius têxteis s.a.  portugal  \n",
       "1  valerius valérius têxteis s.a.  portugal  \n",
       "2  valerius valérius têxteis s.a.  portugal  \n",
       "3  valerius valérius têxteis s.a.  portugal  \n",
       "4                 denim authority   tunisie  "
      ]
     },
     "execution_count": 43,
     "metadata": {},
     "output_type": "execute_result"
    }
   ],
   "source": [
    "df_Armed.head()"
   ]
  },
  {
   "cell_type": "code",
   "execution_count": 47,
   "id": "ebda5a5f",
   "metadata": {},
   "outputs": [
    {
     "name": "stdout",
     "output_type": "stream",
     "text": [
      "<class 'pandas.core.frame.DataFrame'>\n",
      "Int64Index: 103 entries, 0 to 102\n",
      "Data columns (total 11 columns):\n",
      " #   Column              Non-Null Count  Dtype  \n",
      "---  ------              --------------  -----  \n",
      " 0   product_id          103 non-null    object \n",
      " 1   material            103 non-null    object \n",
      " 2   percentage          103 non-null    float64\n",
      " 3   gender              103 non-null    object \n",
      " 4   categories_clothes  103 non-null    object \n",
      " 5   color               103 non-null    object \n",
      " 6   price               103 non-null    float64\n",
      " 7   label1              103 non-null    object \n",
      " 8   label2              103 non-null    object \n",
      " 9   company             103 non-null    object \n",
      " 10  country             103 non-null    object \n",
      "dtypes: float64(2), object(9)\n",
      "memory usage: 9.7+ KB\n"
     ]
    }
   ],
   "source": [
    "df_Armed.info()"
   ]
  },
  {
   "cell_type": "code",
   "execution_count": 44,
   "id": "b3be69e9",
   "metadata": {},
   "outputs": [
    {
     "name": "stdout",
     "output_type": "stream",
     "text": [
      " nous avons 0 lignes dupliquées et nous allons les supprimer\n"
     ]
    }
   ],
   "source": [
    "# suppression des lignes dupliquée\n",
    "print(\" nous avons\", df_Armed[df_Armed.duplicated()].shape[0], \"lignes dupliquées et nous allons les supprimer\")\n",
    "df_Armed.drop_duplicates(inplace=True)"
   ]
  },
  {
   "cell_type": "code",
   "execution_count": 46,
   "id": "16ef2f44",
   "metadata": {},
   "outputs": [
    {
     "name": "stdout",
     "output_type": "stream",
     "text": [
      "nous avons scrapé:  58 produits différents de H&M, et pour chaque produit nous avons récupérré les caractéristiques suivantes :  ['product_id', 'material', 'percentage', 'gender', 'categories_clothes', 'color', 'price', 'label1', 'label2', 'company', 'country']\n"
     ]
    }
   ],
   "source": [
    "print(\"nous avons scrapé: \",df_Armed.product_id.unique().shape[0], \"produits différents de AngelArmed, et pour chaque produit \"\n",
    "      \"nous avons récupérré les caractéristiques suivantes : \", df_Armed.columns.tolist())"
   ]
  },
  {
   "cell_type": "markdown",
   "id": "2a282e54",
   "metadata": {},
   "source": [
    "**_Remarque_**: Un produit peut être composé de différents matériaux c'est pour ça que notre dataframe contient 103 lignes"
   ]
  },
  {
   "cell_type": "markdown",
   "id": "ec56c0e3",
   "metadata": {},
   "source": [
    "# Analyse"
   ]
  },
  {
   "cell_type": "markdown",
   "id": "3fd5cf66",
   "metadata": {},
   "source": [
    "### Material, categories_ clothes, Country"
   ]
  },
  {
   "cell_type": "code",
   "execution_count": 27,
   "id": "ba090d28",
   "metadata": {},
   "outputs": [
    {
     "data": {
      "text/html": [
       "<div>\n",
       "<style scoped>\n",
       "    .dataframe tbody tr th:only-of-type {\n",
       "        vertical-align: middle;\n",
       "    }\n",
       "\n",
       "    .dataframe tbody tr th {\n",
       "        vertical-align: top;\n",
       "    }\n",
       "\n",
       "    .dataframe thead th {\n",
       "        text-align: right;\n",
       "    }\n",
       "</style>\n",
       "<table border=\"1\" class=\"dataframe\">\n",
       "  <thead>\n",
       "    <tr style=\"text-align: right;\">\n",
       "      <th></th>\n",
       "      <th>material</th>\n",
       "      <th>categories_clothes</th>\n",
       "      <th>country</th>\n",
       "    </tr>\n",
       "  </thead>\n",
       "  <tbody>\n",
       "    <tr>\n",
       "      <th>0</th>\n",
       "      <td>coton (bio)</td>\n",
       "      <td>Bas</td>\n",
       "      <td>[portugal, turquie, tunisie]</td>\n",
       "    </tr>\n",
       "    <tr>\n",
       "      <th>1</th>\n",
       "      <td>coton (bio)</td>\n",
       "      <td>Hauts</td>\n",
       "      <td>[portugal, tunisie]</td>\n",
       "    </tr>\n",
       "    <tr>\n",
       "      <th>2</th>\n",
       "      <td>coton (recyclé)</td>\n",
       "      <td>Bas</td>\n",
       "      <td>[portugal, turquie, tunisie]</td>\n",
       "    </tr>\n",
       "    <tr>\n",
       "      <th>3</th>\n",
       "      <td>coton (recyclé)</td>\n",
       "      <td>Hauts</td>\n",
       "      <td>[portugal, tunisie]</td>\n",
       "    </tr>\n",
       "    <tr>\n",
       "      <th>4</th>\n",
       "      <td>de laine de bœuf (biologique)</td>\n",
       "      <td>Bas</td>\n",
       "      <td>[portugal, tunisie]</td>\n",
       "    </tr>\n",
       "    <tr>\n",
       "      <th>5</th>\n",
       "      <td>de laine de bœuf (biologique)</td>\n",
       "      <td>Hauts</td>\n",
       "      <td>[portugal, tunisie]</td>\n",
       "    </tr>\n",
       "    <tr>\n",
       "      <th>6</th>\n",
       "      <td>de laine de bœuf (réutilisée)</td>\n",
       "      <td>Bas</td>\n",
       "      <td>[portugal, tunisie]</td>\n",
       "    </tr>\n",
       "    <tr>\n",
       "      <th>7</th>\n",
       "      <td>de laine de bœuf (réutilisée)</td>\n",
       "      <td>Hauts</td>\n",
       "      <td>[portugal, tunisie]</td>\n",
       "    </tr>\n",
       "    <tr>\n",
       "      <th>8</th>\n",
       "      <td>polyester (recyclé)</td>\n",
       "      <td>Bas</td>\n",
       "      <td>[turquie, tunisie]</td>\n",
       "    </tr>\n",
       "    <tr>\n",
       "      <th>9</th>\n",
       "      <td>viscose (lenzing™ ecovero™)</td>\n",
       "      <td>Bas</td>\n",
       "      <td>[portugal]</td>\n",
       "    </tr>\n",
       "    <tr>\n",
       "      <th>10</th>\n",
       "      <td>élasthanne</td>\n",
       "      <td>Bas</td>\n",
       "      <td>[portugal, turquie, tunisie]</td>\n",
       "    </tr>\n",
       "  </tbody>\n",
       "</table>\n",
       "</div>"
      ],
      "text/plain": [
       "                         material categories_clothes   \n",
       "0                     coton (bio)                Bas  \\\n",
       "1                     coton (bio)              Hauts   \n",
       "2                 coton (recyclé)                Bas   \n",
       "3                 coton (recyclé)              Hauts   \n",
       "4   de laine de bœuf (biologique)                Bas   \n",
       "5   de laine de bœuf (biologique)              Hauts   \n",
       "6   de laine de bœuf (réutilisée)                Bas   \n",
       "7   de laine de bœuf (réutilisée)              Hauts   \n",
       "8             polyester (recyclé)                Bas   \n",
       "9     viscose (lenzing™ ecovero™)                Bas   \n",
       "10                     élasthanne                Bas   \n",
       "\n",
       "                         country  \n",
       "0   [portugal, turquie, tunisie]  \n",
       "1            [portugal, tunisie]  \n",
       "2   [portugal, turquie, tunisie]  \n",
       "3            [portugal, tunisie]  \n",
       "4            [portugal, tunisie]  \n",
       "5            [portugal, tunisie]  \n",
       "6            [portugal, tunisie]  \n",
       "7            [portugal, tunisie]  \n",
       "8             [turquie, tunisie]  \n",
       "9                     [portugal]  \n",
       "10  [portugal, turquie, tunisie]  "
      ]
     },
     "execution_count": 27,
     "metadata": {},
     "output_type": "execute_result"
    }
   ],
   "source": [
    "df_Armed.groupby(['material', 'categories_clothes'])['country'].agg(lambda x: list(set(x))).reset_index()"
   ]
  },
  {
   "cell_type": "code",
   "execution_count": null,
   "id": "2c2779c1",
   "metadata": {},
   "outputs": [],
   "source": []
  },
  {
   "cell_type": "code",
   "execution_count": null,
   "id": "bf66822e",
   "metadata": {},
   "outputs": [],
   "source": []
  }
 ],
 "metadata": {
  "kernelspec": {
   "display_name": "Python 3 (ipykernel)",
   "language": "python",
   "name": "python3"
  },
  "language_info": {
   "codemirror_mode": {
    "name": "ipython",
    "version": 3
   },
   "file_extension": ".py",
   "mimetype": "text/x-python",
   "name": "python",
   "nbconvert_exporter": "python",
   "pygments_lexer": "ipython3",
   "version": "3.10.2"
  },
  "toc": {
   "base_numbering": 1,
   "nav_menu": {},
   "number_sections": true,
   "sideBar": true,
   "skip_h1_title": false,
   "title_cell": "Table of Contents",
   "title_sidebar": "Contents",
   "toc_cell": false,
   "toc_position": {
    "height": "calc(100% - 180px)",
    "left": "10px",
    "top": "150px",
    "width": "250.594px"
   },
   "toc_section_display": true,
   "toc_window_display": true
  }
 },
 "nbformat": 4,
 "nbformat_minor": 5
}
