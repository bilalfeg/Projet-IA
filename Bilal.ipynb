{
 "cells": [
  {
   "cell_type": "code",
   "execution_count": 265,
   "id": "51366706",
   "metadata": {},
   "outputs": [],
   "source": [
    "import pandas as pd\n",
    "import numpy as np\n",
    "import matplotlib.pyplot as plt\n",
    "import seaborn as sns\n",
    "from matplotlib.colors import Normalize"
   ]
  },
  {
   "cell_type": "markdown",
   "id": "97a6feef",
   "metadata": {},
   "source": [
    "# H&M clothes"
   ]
  },
  {
   "cell_type": "code",
   "execution_count": 266,
   "id": "c81c7e44",
   "metadata": {},
   "outputs": [],
   "source": [
    "df_HM_clothes = pd.read_csv(\"data_h&m_tendnace_clothes.csv\")"
   ]
  },
  {
   "cell_type": "code",
   "execution_count": 267,
   "id": "d46e3d34",
   "metadata": {},
   "outputs": [
    {
     "data": {
      "text/html": [
       "<div>\n",
       "<style scoped>\n",
       "    .dataframe tbody tr th:only-of-type {\n",
       "        vertical-align: middle;\n",
       "    }\n",
       "\n",
       "    .dataframe tbody tr th {\n",
       "        vertical-align: top;\n",
       "    }\n",
       "\n",
       "    .dataframe thead th {\n",
       "        text-align: right;\n",
       "    }\n",
       "</style>\n",
       "<table border=\"1\" class=\"dataframe\">\n",
       "  <thead>\n",
       "    <tr style=\"text-align: right;\">\n",
       "      <th></th>\n",
       "      <th>Unnamed: 0</th>\n",
       "      <th>product_id</th>\n",
       "      <th>gender</th>\n",
       "      <th>clothes</th>\n",
       "      <th>color</th>\n",
       "      <th>price</th>\n",
       "    </tr>\n",
       "  </thead>\n",
       "  <tbody>\n",
       "    <tr>\n",
       "      <th>0</th>\n",
       "      <td>0</td>\n",
       "      <td>1166969003</td>\n",
       "      <td>FEMME</td>\n",
       "      <td>Robe</td>\n",
       "      <td>Cream/Floral</td>\n",
       "      <td>\\r\\n                39,99 €</td>\n",
       "    </tr>\n",
       "    <tr>\n",
       "      <th>1</th>\n",
       "      <td>1</td>\n",
       "      <td>1142215002</td>\n",
       "      <td>FEMME</td>\n",
       "      <td>Blouse</td>\n",
       "      <td>Noir</td>\n",
       "      <td>\\r\\n                49,99 €</td>\n",
       "    </tr>\n",
       "    <tr>\n",
       "      <th>2</th>\n",
       "      <td>2</td>\n",
       "      <td>1159122003</td>\n",
       "      <td>FEMME</td>\n",
       "      <td>Robe</td>\n",
       "      <td>Vert</td>\n",
       "      <td>\\r\\n                59,99 €</td>\n",
       "    </tr>\n",
       "    <tr>\n",
       "      <th>3</th>\n",
       "      <td>3</td>\n",
       "      <td>1159122001</td>\n",
       "      <td>FEMME</td>\n",
       "      <td>Robe</td>\n",
       "      <td>Noir</td>\n",
       "      <td>\\r\\n                59,99 €</td>\n",
       "    </tr>\n",
       "    <tr>\n",
       "      <th>4</th>\n",
       "      <td>4</td>\n",
       "      <td>1157667001</td>\n",
       "      <td>FEMME</td>\n",
       "      <td>Robe</td>\n",
       "      <td>Noir</td>\n",
       "      <td>\\r\\n                79,99 €</td>\n",
       "    </tr>\n",
       "  </tbody>\n",
       "</table>\n",
       "</div>"
      ],
      "text/plain": [
       "   Unnamed: 0  product_id gender clothes         color  \\\n",
       "0           0  1166969003  FEMME    Robe  Cream/Floral   \n",
       "1           1  1142215002  FEMME  Blouse          Noir   \n",
       "2           2  1159122003  FEMME    Robe          Vert   \n",
       "3           3  1159122001  FEMME    Robe          Noir   \n",
       "4           4  1157667001  FEMME    Robe          Noir   \n",
       "\n",
       "                         price  \n",
       "0  \\r\\n                39,99 €  \n",
       "1  \\r\\n                49,99 €  \n",
       "2  \\r\\n                59,99 €  \n",
       "3  \\r\\n                59,99 €  \n",
       "4  \\r\\n                79,99 €  "
      ]
     },
     "execution_count": 267,
     "metadata": {},
     "output_type": "execute_result"
    }
   ],
   "source": [
    "df_HM_clothes.head()"
   ]
  },
  {
   "cell_type": "code",
   "execution_count": 268,
   "id": "88837a0a",
   "metadata": {},
   "outputs": [
    {
     "name": "stdout",
     "output_type": "stream",
     "text": [
      "<class 'pandas.core.frame.DataFrame'>\n",
      "RangeIndex: 1095 entries, 0 to 1094\n",
      "Data columns (total 6 columns):\n",
      " #   Column      Non-Null Count  Dtype \n",
      "---  ------      --------------  ----- \n",
      " 0   Unnamed: 0  1095 non-null   int64 \n",
      " 1   product_id  1095 non-null   int64 \n",
      " 2   gender      1095 non-null   object\n",
      " 3   clothes     1095 non-null   object\n",
      " 4   color       1095 non-null   object\n",
      " 5   price       1095 non-null   object\n",
      "dtypes: int64(2), object(4)\n",
      "memory usage: 51.5+ KB\n"
     ]
    }
   ],
   "source": [
    "df_HM_clothes.info()"
   ]
  },
  {
   "cell_type": "markdown",
   "id": "480a613f",
   "metadata": {},
   "source": [
    "# Clean Data_frame_clothes"
   ]
  },
  {
   "cell_type": "code",
   "execution_count": 269,
   "id": "54c6446d",
   "metadata": {},
   "outputs": [
    {
     "data": {
      "text/html": [
       "<div>\n",
       "<style scoped>\n",
       "    .dataframe tbody tr th:only-of-type {\n",
       "        vertical-align: middle;\n",
       "    }\n",
       "\n",
       "    .dataframe tbody tr th {\n",
       "        vertical-align: top;\n",
       "    }\n",
       "\n",
       "    .dataframe thead th {\n",
       "        text-align: right;\n",
       "    }\n",
       "</style>\n",
       "<table border=\"1\" class=\"dataframe\">\n",
       "  <thead>\n",
       "    <tr style=\"text-align: right;\">\n",
       "      <th></th>\n",
       "      <th>product_id</th>\n",
       "      <th>gender</th>\n",
       "      <th>clothes</th>\n",
       "      <th>color</th>\n",
       "      <th>price</th>\n",
       "    </tr>\n",
       "  </thead>\n",
       "  <tbody>\n",
       "    <tr>\n",
       "      <th>0</th>\n",
       "      <td>1166969003</td>\n",
       "      <td>femme</td>\n",
       "      <td>robe</td>\n",
       "      <td>cream/floral</td>\n",
       "      <td>39.99</td>\n",
       "    </tr>\n",
       "    <tr>\n",
       "      <th>1</th>\n",
       "      <td>1142215002</td>\n",
       "      <td>femme</td>\n",
       "      <td>blouse</td>\n",
       "      <td>noir</td>\n",
       "      <td>49.99</td>\n",
       "    </tr>\n",
       "    <tr>\n",
       "      <th>2</th>\n",
       "      <td>1159122003</td>\n",
       "      <td>femme</td>\n",
       "      <td>robe</td>\n",
       "      <td>vert</td>\n",
       "      <td>59.99</td>\n",
       "    </tr>\n",
       "    <tr>\n",
       "      <th>3</th>\n",
       "      <td>1159122001</td>\n",
       "      <td>femme</td>\n",
       "      <td>robe</td>\n",
       "      <td>noir</td>\n",
       "      <td>59.99</td>\n",
       "    </tr>\n",
       "    <tr>\n",
       "      <th>4</th>\n",
       "      <td>1157667001</td>\n",
       "      <td>femme</td>\n",
       "      <td>robe</td>\n",
       "      <td>noir</td>\n",
       "      <td>79.99</td>\n",
       "    </tr>\n",
       "  </tbody>\n",
       "</table>\n",
       "</div>"
      ],
      "text/plain": [
       "   product_id gender clothes         color  price\n",
       "0  1166969003  femme    robe  cream/floral  39.99\n",
       "1  1142215002  femme  blouse          noir  49.99\n",
       "2  1159122003  femme    robe          vert  59.99\n",
       "3  1159122001  femme    robe          noir  59.99\n",
       "4  1157667001  femme    robe          noir  79.99"
      ]
     },
     "execution_count": 269,
     "metadata": {},
     "output_type": "execute_result"
    }
   ],
   "source": [
    "#Supprimer la colonne \"unnamed: 0 car elle ne sert à rien\"\n",
    "df_HM_clothes.drop(columns = \"Unnamed: 0\", inplace = True)\n",
    "\n",
    "#nettoyer la colonne price et modifier le  type en float\n",
    "df_HM_clothes['price'] = df_HM_clothes['price'].astype(str)\n",
    "df_HM_clothes['price'] = df_HM_clothes['price'].str.replace(',', '.')\n",
    "df_HM_clothes['price'] = df_HM_clothes['price'].str.replace('\\r\\n','')\n",
    "df_HM_clothes['price'] = df_HM_clothes['price'].str.replace('€','')\n",
    "df_HM_clothes['price'] = df_HM_clothes['price'].astype(float)\n",
    "df_HM_clothes.rename({'price':'price (€)'})\n",
    "# modifier le type de product_id en string\n",
    "df_HM_clothes['product_id'] = df_HM_clothes['product_id'].astype(str)\n",
    "\n",
    "#Mettre les champs en minuscules\n",
    "df_HM_clothes = df_HM_clothes.applymap(lambda x: x.lower() if isinstance(x, str) else x)\n",
    "\n",
    "# Mettre les noms de colonnes en minuscules\n",
    "df_HM_clothes.rename(columns=lambda x: x.lower(), inplace=True)\n",
    "\n",
    "\n",
    "df_HM_clothes.head()"
   ]
  },
  {
   "cell_type": "code",
   "execution_count": 270,
   "id": "35e928ba",
   "metadata": {},
   "outputs": [
    {
     "name": "stdout",
     "output_type": "stream",
     "text": [
      "<class 'pandas.core.frame.DataFrame'>\n",
      "RangeIndex: 1095 entries, 0 to 1094\n",
      "Data columns (total 5 columns):\n",
      " #   Column      Non-Null Count  Dtype  \n",
      "---  ------      --------------  -----  \n",
      " 0   product_id  1095 non-null   object \n",
      " 1   gender      1095 non-null   object \n",
      " 2   clothes     1095 non-null   object \n",
      " 3   color       1095 non-null   object \n",
      " 4   price       1095 non-null   float64\n",
      "dtypes: float64(1), object(4)\n",
      "memory usage: 42.9+ KB\n"
     ]
    }
   ],
   "source": [
    "df_HM_clothes.info()"
   ]
  },
  {
   "cell_type": "markdown",
   "id": "55768ec9",
   "metadata": {},
   "source": [
    "# H&M composition"
   ]
  },
  {
   "cell_type": "code",
   "execution_count": 271,
   "id": "520a4e63",
   "metadata": {},
   "outputs": [],
   "source": [
    "df_HM_composition = pd.read_csv(\"data_h&m_tendance_compo.csv\")"
   ]
  },
  {
   "cell_type": "code",
   "execution_count": 272,
   "id": "33768001",
   "metadata": {},
   "outputs": [
    {
     "data": {
      "text/html": [
       "<div>\n",
       "<style scoped>\n",
       "    .dataframe tbody tr th:only-of-type {\n",
       "        vertical-align: middle;\n",
       "    }\n",
       "\n",
       "    .dataframe tbody tr th {\n",
       "        vertical-align: top;\n",
       "    }\n",
       "\n",
       "    .dataframe thead th {\n",
       "        text-align: right;\n",
       "    }\n",
       "</style>\n",
       "<table border=\"1\" class=\"dataframe\">\n",
       "  <thead>\n",
       "    <tr style=\"text-align: right;\">\n",
       "      <th></th>\n",
       "      <th>Unnamed: 0</th>\n",
       "      <th>product_id</th>\n",
       "      <th>layer</th>\n",
       "      <th>material</th>\n",
       "      <th>percentage</th>\n",
       "    </tr>\n",
       "  </thead>\n",
       "  <tbody>\n",
       "    <tr>\n",
       "      <th>0</th>\n",
       "      <td>0</td>\n",
       "      <td>1166969003</td>\n",
       "      <td>Doublure</td>\n",
       "      <td>Polyester</td>\n",
       "      <td>100.0</td>\n",
       "    </tr>\n",
       "    <tr>\n",
       "      <th>1</th>\n",
       "      <td>1</td>\n",
       "      <td>1166969003</td>\n",
       "      <td>Couche extérieure</td>\n",
       "      <td>Polyester</td>\n",
       "      <td>100.0</td>\n",
       "    </tr>\n",
       "    <tr>\n",
       "      <th>2</th>\n",
       "      <td>2</td>\n",
       "      <td>1166969003</td>\n",
       "      <td>Bordure</td>\n",
       "      <td>Polyester</td>\n",
       "      <td>100.0</td>\n",
       "    </tr>\n",
       "    <tr>\n",
       "      <th>3</th>\n",
       "      <td>3</td>\n",
       "      <td>1142215002</td>\n",
       "      <td>Doublure</td>\n",
       "      <td>Polyester</td>\n",
       "      <td>100.0</td>\n",
       "    </tr>\n",
       "    <tr>\n",
       "      <th>4</th>\n",
       "      <td>4</td>\n",
       "      <td>1142215002</td>\n",
       "      <td>Couche extérieure</td>\n",
       "      <td>Polyester</td>\n",
       "      <td>61.0</td>\n",
       "    </tr>\n",
       "  </tbody>\n",
       "</table>\n",
       "</div>"
      ],
      "text/plain": [
       "   Unnamed: 0  product_id              layer   material  percentage\n",
       "0           0  1166969003           Doublure  Polyester       100.0\n",
       "1           1  1166969003  Couche extérieure  Polyester       100.0\n",
       "2           2  1166969003            Bordure  Polyester       100.0\n",
       "3           3  1142215002           Doublure  Polyester       100.0\n",
       "4           4  1142215002  Couche extérieure  Polyester        61.0"
      ]
     },
     "execution_count": 272,
     "metadata": {},
     "output_type": "execute_result"
    }
   ],
   "source": [
    "df_HM_composition.head()"
   ]
  },
  {
   "cell_type": "code",
   "execution_count": 273,
   "id": "757aac7e",
   "metadata": {},
   "outputs": [
    {
     "name": "stdout",
     "output_type": "stream",
     "text": [
      "<class 'pandas.core.frame.DataFrame'>\n",
      "RangeIndex: 2159 entries, 0 to 2158\n",
      "Data columns (total 5 columns):\n",
      " #   Column      Non-Null Count  Dtype  \n",
      "---  ------      --------------  -----  \n",
      " 0   Unnamed: 0  2159 non-null   int64  \n",
      " 1   product_id  2159 non-null   int64  \n",
      " 2   layer       1295 non-null   object \n",
      " 3   material    2159 non-null   object \n",
      " 4   percentage  2159 non-null   float64\n",
      "dtypes: float64(1), int64(2), object(2)\n",
      "memory usage: 84.5+ KB\n"
     ]
    }
   ],
   "source": [
    "df_HM_composition.info()"
   ]
  },
  {
   "cell_type": "markdown",
   "id": "e2d04e7d",
   "metadata": {},
   "source": [
    "# Clean Data_frame_clothes"
   ]
  },
  {
   "cell_type": "code",
   "execution_count": 274,
   "id": "207f6766",
   "metadata": {},
   "outputs": [
    {
     "data": {
      "text/html": [
       "<div>\n",
       "<style scoped>\n",
       "    .dataframe tbody tr th:only-of-type {\n",
       "        vertical-align: middle;\n",
       "    }\n",
       "\n",
       "    .dataframe tbody tr th {\n",
       "        vertical-align: top;\n",
       "    }\n",
       "\n",
       "    .dataframe thead th {\n",
       "        text-align: right;\n",
       "    }\n",
       "</style>\n",
       "<table border=\"1\" class=\"dataframe\">\n",
       "  <thead>\n",
       "    <tr style=\"text-align: right;\">\n",
       "      <th></th>\n",
       "      <th>product_id</th>\n",
       "      <th>layer</th>\n",
       "      <th>material</th>\n",
       "      <th>percentage</th>\n",
       "    </tr>\n",
       "  </thead>\n",
       "  <tbody>\n",
       "    <tr>\n",
       "      <th>0</th>\n",
       "      <td>1166969003</td>\n",
       "      <td>doublure</td>\n",
       "      <td>polyester</td>\n",
       "      <td>100.0</td>\n",
       "    </tr>\n",
       "    <tr>\n",
       "      <th>1</th>\n",
       "      <td>1166969003</td>\n",
       "      <td>couche extérieure</td>\n",
       "      <td>polyester</td>\n",
       "      <td>100.0</td>\n",
       "    </tr>\n",
       "    <tr>\n",
       "      <th>2</th>\n",
       "      <td>1166969003</td>\n",
       "      <td>bordure</td>\n",
       "      <td>polyester</td>\n",
       "      <td>100.0</td>\n",
       "    </tr>\n",
       "    <tr>\n",
       "      <th>3</th>\n",
       "      <td>1142215002</td>\n",
       "      <td>doublure</td>\n",
       "      <td>polyester</td>\n",
       "      <td>100.0</td>\n",
       "    </tr>\n",
       "    <tr>\n",
       "      <th>4</th>\n",
       "      <td>1142215002</td>\n",
       "      <td>couche extérieure</td>\n",
       "      <td>polyester</td>\n",
       "      <td>61.0</td>\n",
       "    </tr>\n",
       "  </tbody>\n",
       "</table>\n",
       "</div>"
      ],
      "text/plain": [
       "   product_id              layer   material  percentage\n",
       "0  1166969003           doublure  polyester       100.0\n",
       "1  1166969003  couche extérieure  polyester       100.0\n",
       "2  1166969003            bordure  polyester       100.0\n",
       "3  1142215002           doublure  polyester       100.0\n",
       "4  1142215002  couche extérieure  polyester        61.0"
      ]
     },
     "execution_count": 274,
     "metadata": {},
     "output_type": "execute_result"
    }
   ],
   "source": [
    "#Supprimer la colonne \"unnamed: 0 car elle ne sert à rien\"\n",
    "df_HM_composition.drop(columns = \"Unnamed: 0\", inplace = True)\n",
    "\n",
    "# modifier le type de product_id en string\n",
    "df_HM_composition['product_id'] = df_HM_composition['product_id'].astype(str)\n",
    "\n",
    "#Mettre les champs en minuscules\n",
    "df_HM_composition = df_HM_composition.applymap(lambda x: x.lower() if isinstance(x, str) else x)\n",
    "\n",
    "# Mettre les noms de colonnes en minuscules\n",
    "df_HM_composition.rename(columns=lambda x: x.lower(), inplace=True)\n",
    "\n",
    "\n",
    "df_HM_composition.head()"
   ]
  },
  {
   "cell_type": "code",
   "execution_count": 275,
   "id": "c2a74e9c",
   "metadata": {},
   "outputs": [
    {
     "name": "stdout",
     "output_type": "stream",
     "text": [
      "<class 'pandas.core.frame.DataFrame'>\n",
      "RangeIndex: 2159 entries, 0 to 2158\n",
      "Data columns (total 4 columns):\n",
      " #   Column      Non-Null Count  Dtype  \n",
      "---  ------      --------------  -----  \n",
      " 0   product_id  2159 non-null   object \n",
      " 1   layer       1295 non-null   object \n",
      " 2   material    2159 non-null   object \n",
      " 3   percentage  2159 non-null   float64\n",
      "dtypes: float64(1), object(3)\n",
      "memory usage: 67.6+ KB\n"
     ]
    }
   ],
   "source": [
    "df_HM_composition.info()"
   ]
  },
  {
   "cell_type": "markdown",
   "id": "ad676ca0",
   "metadata": {},
   "source": [
    "# DATA H&M "
   ]
  },
  {
   "cell_type": "code",
   "execution_count": 276,
   "id": "cd874798",
   "metadata": {},
   "outputs": [],
   "source": [
    "df_HM = pd.merge(df_HM_clothes,df_HM_composition,on=\"product_id\",how=\"inner\")"
   ]
  },
  {
   "cell_type": "code",
   "execution_count": 277,
   "id": "696d5d72",
   "metadata": {},
   "outputs": [
    {
     "data": {
      "text/html": [
       "<div>\n",
       "<style scoped>\n",
       "    .dataframe tbody tr th:only-of-type {\n",
       "        vertical-align: middle;\n",
       "    }\n",
       "\n",
       "    .dataframe tbody tr th {\n",
       "        vertical-align: top;\n",
       "    }\n",
       "\n",
       "    .dataframe thead th {\n",
       "        text-align: right;\n",
       "    }\n",
       "</style>\n",
       "<table border=\"1\" class=\"dataframe\">\n",
       "  <thead>\n",
       "    <tr style=\"text-align: right;\">\n",
       "      <th></th>\n",
       "      <th>product_id</th>\n",
       "      <th>gender</th>\n",
       "      <th>clothes</th>\n",
       "      <th>color</th>\n",
       "      <th>price</th>\n",
       "      <th>layer</th>\n",
       "      <th>material</th>\n",
       "      <th>percentage</th>\n",
       "    </tr>\n",
       "  </thead>\n",
       "  <tbody>\n",
       "    <tr>\n",
       "      <th>0</th>\n",
       "      <td>1166969003</td>\n",
       "      <td>femme</td>\n",
       "      <td>robe</td>\n",
       "      <td>cream/floral</td>\n",
       "      <td>39.99</td>\n",
       "      <td>doublure</td>\n",
       "      <td>polyester</td>\n",
       "      <td>100.0</td>\n",
       "    </tr>\n",
       "    <tr>\n",
       "      <th>1</th>\n",
       "      <td>1166969003</td>\n",
       "      <td>femme</td>\n",
       "      <td>robe</td>\n",
       "      <td>cream/floral</td>\n",
       "      <td>39.99</td>\n",
       "      <td>couche extérieure</td>\n",
       "      <td>polyester</td>\n",
       "      <td>100.0</td>\n",
       "    </tr>\n",
       "    <tr>\n",
       "      <th>2</th>\n",
       "      <td>1166969003</td>\n",
       "      <td>femme</td>\n",
       "      <td>robe</td>\n",
       "      <td>cream/floral</td>\n",
       "      <td>39.99</td>\n",
       "      <td>bordure</td>\n",
       "      <td>polyester</td>\n",
       "      <td>100.0</td>\n",
       "    </tr>\n",
       "    <tr>\n",
       "      <th>3</th>\n",
       "      <td>1142215002</td>\n",
       "      <td>femme</td>\n",
       "      <td>blouse</td>\n",
       "      <td>noir</td>\n",
       "      <td>49.99</td>\n",
       "      <td>doublure</td>\n",
       "      <td>polyester</td>\n",
       "      <td>100.0</td>\n",
       "    </tr>\n",
       "    <tr>\n",
       "      <th>4</th>\n",
       "      <td>1142215002</td>\n",
       "      <td>femme</td>\n",
       "      <td>blouse</td>\n",
       "      <td>noir</td>\n",
       "      <td>49.99</td>\n",
       "      <td>couche extérieure</td>\n",
       "      <td>polyester</td>\n",
       "      <td>61.0</td>\n",
       "    </tr>\n",
       "  </tbody>\n",
       "</table>\n",
       "</div>"
      ],
      "text/plain": [
       "   product_id gender clothes         color  price              layer  \\\n",
       "0  1166969003  femme    robe  cream/floral  39.99           doublure   \n",
       "1  1166969003  femme    robe  cream/floral  39.99  couche extérieure   \n",
       "2  1166969003  femme    robe  cream/floral  39.99            bordure   \n",
       "3  1142215002  femme  blouse          noir  49.99           doublure   \n",
       "4  1142215002  femme  blouse          noir  49.99  couche extérieure   \n",
       "\n",
       "    material  percentage  \n",
       "0  polyester       100.0  \n",
       "1  polyester       100.0  \n",
       "2  polyester       100.0  \n",
       "3  polyester       100.0  \n",
       "4  polyester        61.0  "
      ]
     },
     "execution_count": 277,
     "metadata": {},
     "output_type": "execute_result"
    }
   ],
   "source": [
    "df_HM.head()"
   ]
  },
  {
   "cell_type": "code",
   "execution_count": 278,
   "id": "e86f94c7",
   "metadata": {
    "scrolled": true
   },
   "outputs": [
    {
     "name": "stdout",
     "output_type": "stream",
     "text": [
      "<class 'pandas.core.frame.DataFrame'>\n",
      "Int64Index: 2159 entries, 0 to 2158\n",
      "Data columns (total 8 columns):\n",
      " #   Column      Non-Null Count  Dtype  \n",
      "---  ------      --------------  -----  \n",
      " 0   product_id  2159 non-null   object \n",
      " 1   gender      2159 non-null   object \n",
      " 2   clothes     2159 non-null   object \n",
      " 3   color       2159 non-null   object \n",
      " 4   price       2159 non-null   float64\n",
      " 5   layer       1295 non-null   object \n",
      " 6   material    2159 non-null   object \n",
      " 7   percentage  2159 non-null   float64\n",
      "dtypes: float64(2), object(6)\n",
      "memory usage: 151.8+ KB\n"
     ]
    }
   ],
   "source": [
    "df_HM.info()"
   ]
  },
  {
   "cell_type": "code",
   "execution_count": 279,
   "id": "5fcacf4a",
   "metadata": {},
   "outputs": [
    {
     "name": "stdout",
     "output_type": "stream",
     "text": [
      " nous avons 17 lignes dupliquées et nous allons les supprimer\n"
     ]
    }
   ],
   "source": [
    "# suppression des lignes dupliquée\n",
    "print(\" nous avons\", df_HM[df_HM.duplicated()].shape[0], \"lignes dupliquées et nous allons les supprimer\")\n",
    "df_HM.drop_duplicates(inplace=True)"
   ]
  },
  {
   "cell_type": "code",
   "execution_count": 280,
   "id": "6aa21a2e",
   "metadata": {},
   "outputs": [
    {
     "name": "stdout",
     "output_type": "stream",
     "text": [
      "nous avons scrapé:  1049 produits différents de H&M, et pour chaque produit nous avons récupérré les caractéristiques suivantes :  ['product_id', 'gender', 'clothes', 'color', 'price', 'layer', 'material', 'percentage']\n"
     ]
    }
   ],
   "source": [
    "print(\"nous avons scrapé: \",df_HM.product_id.unique().shape[0], \"produits différents de H&M, et pour chaque produit \"\n",
    "      \"nous avons récupérré les caractéristiques suivantes : \", df_HM.columns.tolist())"
   ]
  },
  {
   "cell_type": "markdown",
   "id": "bd356df7",
   "metadata": {},
   "source": [
    "**_Remarque_**: on peut avoir un produit avec des materiaux différents c'est pour ça notre dataframe contient 2142 lignes"
   ]
  },
  {
   "cell_type": "markdown",
   "id": "8749372d",
   "metadata": {},
   "source": [
    "# Analyse de données H&M"
   ]
  },
  {
   "cell_type": "markdown",
   "id": "c733e7d6",
   "metadata": {},
   "source": [
    "**Répartition des matériaux dans les produits H&M**"
   ]
  },
  {
   "cell_type": "code",
   "execution_count": 310,
   "id": "0d66e10c",
   "metadata": {},
   "outputs": [
    {
     "data": {
      "image/png": "[encoded data removed]",
      "text/plain": [
       "<Figure size 720x1152 with 1 Axes>"
      ]
     },
     "metadata": {
      "needs_background": "light"
     },
     "output_type": "display_data"
    }
   ],
   "source": [
    "nbre_col_unique = len(df_HM[\"material\"].unique())\n",
    "cmap = plt.get_cmap('winter_r')\n",
    "norm = Normalize(vmin=0, vmax=nbre_col_unique)\n",
    "opts = dict( \n",
    "    kind='barh',   #indique que nous allons tracer un graphique en barres horizontales\n",
    "    width=0.8,     #définit la largeur des barres\n",
    "    figsize = (10,16), #définit la taille de la figure à 5 pouces de large et 8 pouces de hauteur\n",
    "    xlabel = 'Liste des matériaux',  #définit l'étiquette de l'axe x\n",
    "    color = cmap(norm(sorted((list(range(nbre_col_unique)))))), # définit la couleur des barres en utilisant une colormap (cmap) normalisée (norm) basée\n",
    "    legend = False, #désactive l'affichage de la légende\n",
    "    alpha = 0.8  #définit la transparence des barres \n",
    ")\n",
    "\n",
    "ax = ( \n",
    "    df_HM.groupby(\"material\")\n",
    "    .size()\n",
    "    .sort_values(ascending=True)\n",
    "    .plot(y='nombre de materiaux', **opts)\n",
    ")\n",
    "\n",
    "ax.set_xscale(\"log\")\n",
    "ax.set_xlabel(\"nombre de materiaux\")\n",
    "\n",
    "ax.bar_label(ax.containers[0],padding=2)\n",
    "ax.set_title('Répartition des matériaux dans les produits H&M')\n",
    "ax.grid(axis='x', color='lightgrey', zorder=10)\n"
   ]
  },
  {
   "cell_type": "markdown",
   "id": "d46d4987",
   "metadata": {},
   "source": [
    "# DATA HIGG"
   ]
  },
  {
   "cell_type": "code",
   "execution_count": 311,
   "id": "8dda4487",
   "metadata": {},
   "outputs": [],
   "source": [
    "df_HIGG = pd.read_csv(\"higgs_score_materials.csv\")"
   ]
  },
  {
   "cell_type": "code",
   "execution_count": 344,
   "id": "5e93b35e",
   "metadata": {},
   "outputs": [
    {
     "data": {
      "text/html": [
       "<div>\n",
       "<style scoped>\n",
       "    .dataframe tbody tr th:only-of-type {\n",
       "        vertical-align: middle;\n",
       "    }\n",
       "\n",
       "    .dataframe tbody tr th {\n",
       "        vertical-align: top;\n",
       "    }\n",
       "\n",
       "    .dataframe thead th {\n",
       "        text-align: right;\n",
       "    }\n",
       "</style>\n",
       "<table border=\"1\" class=\"dataframe\">\n",
       "  <thead>\n",
       "    <tr style=\"text-align: right;\">\n",
       "      <th></th>\n",
       "      <th>name</th>\n",
       "      <th>gwp</th>\n",
       "      <th>wsp</th>\n",
       "    </tr>\n",
       "  </thead>\n",
       "  <tbody>\n",
       "    <tr>\n",
       "      <th>0</th>\n",
       "      <td>monolithic laminate</td>\n",
       "      <td>4.518294</td>\n",
       "      <td>0.146292</td>\n",
       "    </tr>\n",
       "    <tr>\n",
       "      <th>1</th>\n",
       "      <td>goose down insulation</td>\n",
       "      <td>1.528904</td>\n",
       "      <td>0.269525</td>\n",
       "    </tr>\n",
       "    <tr>\n",
       "      <th>2</th>\n",
       "      <td>duck down insulation</td>\n",
       "      <td>1.528904</td>\n",
       "      <td>0.269525</td>\n",
       "    </tr>\n",
       "    <tr>\n",
       "      <th>3</th>\n",
       "      <td>iron</td>\n",
       "      <td>2.345487</td>\n",
       "      <td>0.036951</td>\n",
       "    </tr>\n",
       "    <tr>\n",
       "      <th>4</th>\n",
       "      <td>tin</td>\n",
       "      <td>20.558422</td>\n",
       "      <td>5.945609</td>\n",
       "    </tr>\n",
       "  </tbody>\n",
       "</table>\n",
       "</div>"
      ],
      "text/plain": [
       "                    name        gwp       wsp\n",
       "0    monolithic laminate   4.518294  0.146292\n",
       "1  goose down insulation   1.528904  0.269525\n",
       "2   duck down insulation   1.528904  0.269525\n",
       "3                   iron   2.345487  0.036951\n",
       "4                    tin  20.558422  5.945609"
      ]
     },
     "execution_count": 344,
     "metadata": {},
     "output_type": "execute_result"
    }
   ],
   "source": [
    "df_HIGG.head()"
   ]
  },
  {
   "cell_type": "code",
   "execution_count": 313,
   "id": "0beab78a",
   "metadata": {},
   "outputs": [
    {
     "name": "stdout",
     "output_type": "stream",
     "text": [
      "<class 'pandas.core.frame.DataFrame'>\n",
      "RangeIndex: 98 entries, 0 to 97\n",
      "Data columns (total 9 columns):\n",
      " #   Column               Non-Null Count  Dtype  \n",
      "---  ------               --------------  -----  \n",
      " 0   name                 98 non-null     object \n",
      " 1   globalWarmingPts     98 non-null     float64\n",
      " 2   eutrophicationPts    98 non-null     float64\n",
      " 3   waterScarcityPts     98 non-null     float64\n",
      " 4   abioticDepletionPts  98 non-null     float64\n",
      " 5   chemistryPts         98 non-null     float64\n",
      " 6   impact               98 non-null     float64\n",
      " 7   waterConsumption     98 non-null     float64\n",
      " 8   biogenicCarbon       98 non-null     float64\n",
      "dtypes: float64(8), object(1)\n",
      "memory usage: 7.0+ KB\n"
     ]
    }
   ],
   "source": [
    "df_HIGG.info()"
   ]
  },
  {
   "cell_type": "markdown",
   "id": "a24ab944",
   "metadata": {},
   "source": [
    "**_Remarque_:** pour notre étude nous allons se concentré sur les deux colonnes suivante :\n",
    "({réchauffement global : globalWarmingPts}, {Pénurie d'eau : waterScarcity})"
   ]
  },
  {
   "cell_type": "code",
   "execution_count": 317,
   "id": "d6610559",
   "metadata": {},
   "outputs": [],
   "source": [
    "df_HIGG.drop(columns=['eutrophicationPts','biogenicCarbon'\n",
    "                      ,'abioticDepletionPts','chemistryPts',\n",
    "                      'impact','waterConsumption','biogenicCarbon'],inplace=True)"
   ]
  },
  {
   "cell_type": "code",
   "execution_count": 323,
   "id": "ee636794",
   "metadata": {},
   "outputs": [],
   "source": [
    "df_HIGG.rename(columns = {\"globalWarmingPts\":\"gwp\",\"waterScarcityPts\":\"wsp\"} , inplace=True)"
   ]
  },
  {
   "cell_type": "code",
   "execution_count": 339,
   "id": "33b113bb",
   "metadata": {},
   "outputs": [
    {
     "data": {
      "text/plain": [
       "array(['polyester', 'viscose', 'polyamide', 'coton', 'élasthanne', 'cuir',\n",
       "       'polyuréthane', 'polyuréthane thermoplastique', 'lin',\n",
       "       'fibre métallisée', 'éthylène-acétate de vinyle', 'jute',\n",
       "       'caoutchouc thermoplastique', 'polypropylène', 'caoutchouc',\n",
       "       'lyocell', 'soie', \"polytéréphtalate d'éthylène\", 'élastodiène',\n",
       "       'cuir velours', 'papier'], dtype=object)"
      ]
     },
     "execution_count": 339,
     "metadata": {},
     "output_type": "execute_result"
    }
   ],
   "source": [
    "df_HM.material.unique()"
   ]
  },
  {
   "cell_type": "markdown",
   "id": "1d5dae6a",
   "metadata": {},
   "source": [
    "**_Remarque_:** \n",
    "nous voulons rajouter les informations (potentiel réchauffement, Pénurie d'eau) dans le dataframe de H&M, la colonne en commun est la colonne matière et name, mais nous avons un problème car les deux colonnes ne sont pas en même langue\n",
    "donc nous allons suivre les étapes suivante:\n",
    "1. Créer une table intermédiaire translation_table avec deux colonnes : \"fr\" et \"en\", contenant respectivement la traduction de chaque matière en français et en anglais.\n",
    "\n",
    "2. Effectuer une jointure entre les deux tables table_fr et translation_table sur la colonne \"matière\" en français, puis une autre jointure entre le résultat de la première jointure et la table table_en sur la colonne \"matière\" en anglais."
   ]
  },
  {
   "cell_type": "code",
   "execution_count": null,
   "id": "15f32bf0",
   "metadata": {},
   "outputs": [],
   "source": [
    "translation_table = pd.DataFrame({\n",
    "    \"fr\": ['polyester', 'viscose', 'polyamide', 'coton', 'élasthanne', 'cuir',\n",
    "       'polyuréthane', 'polyuréthane thermoplastique', 'lin',\n",
    "       'fibre métallisée', 'éthylène-acétate de vinyle', 'jute',\n",
    "       'caoutchouc thermoplastique', 'polypropylène', 'caoutchouc',\n",
    "       'lyocell', 'soie', \"polytéréphtalate d'éthylène\", 'élastodiène',\n",
    "       'cuir velours', 'papier'],\n",
    "    \"en\": [\"fabric\", \"product 2\", \"product 3\"]\n",
    "})\n"
   ]
  }
 ],
 "metadata": {
  "kernelspec": {
   "display_name": "Python 3 (ipykernel)",
   "language": "python",
   "name": "python3"
  },
  "language_info": {
   "codemirror_mode": {
    "name": "ipython",
    "version": 3
   },
   "file_extension": ".py",
   "mimetype": "text/x-python",
   "name": "python",
   "nbconvert_exporter": "python",
   "pygments_lexer": "ipython3",
   "version": "3.10.2"
  }
 },
 "nbformat": 4,
 "nbformat_minor": 5
}
