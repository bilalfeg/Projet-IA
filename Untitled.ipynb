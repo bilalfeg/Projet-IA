{
 "cells": [
  {
   "cell_type": "code",
   "execution_count": 1,
   "id": "fe7ade42",
   "metadata": {},
   "outputs": [],
   "source": [
    "import requests\n",
    "import numpy as np\n",
    "from bs4 import BeautifulSoup\n",
    "import pandas as pd"
   ]
  },
  {
   "cell_type": "code",
   "execution_count": null,
   "id": "e06a1d00",
   "metadata": {},
   "outputs": [],
   "source": [
    "url = \"https://www.columbiasportswear.fr/FR/c/men-featured-bestsellers\"\n",
    "head = {\"User-Agent\":\"Mozilla/5.0 (X11; Ubuntu; Linux x86_64; rv:109.0) Gecko/20100101 Firefox/109.0\"}\n",
    "r = requests.get(url, headers  = head)\n",
    "print(r.status_code)\n",
    "\n",
    "\n",
    "\n",
    "soup = BeautifulSoup(r.text, \"html.parser\")\n",
    "links = soup.find_all(\"a\",  {\"class\" : \"item-link\"})\n",
    "\n",
    "items_links_women = []\n",
    "for link in links:\n",
    "    href = link.get('href')\n",
    "    items_links_women.append(href)\n",
    "\n",
    "\n",
    "\n",
    "url = \"https://www2.hm.com/fr_fr/homme/nouveautes/view-all.html?sort=stock&productTypes=Casquette,Chapeau,Chaussures,Chemise,Cravate,Jean,Legging,Pantalon,Pantalon+de+pyjama,Pull,Pyjama,Short,Short+de+bain,Short+de+pyjama,Sweat,T-shirt,Top,Veste&image-size=small&image=model&offset=0&page-size=443\"\n",
    "head = {\"User-Agent\":\"Mozilla/5.0 (X11; Ubuntu; Linux x86_64; rv:109.0) Gecko/20100101 Firefox/109.0\"}\n",
    "r = requests.get(url, headers  = head)\n",
    "print(r.status_code)\n",
    "\n",
    "soup = BeautifulSoup(r.text, \"html.parser\")\n",
    "links = soup.find_all(\"a\",  {\"class\" : \"item-link\"})\n",
    "\n",
    "\n",
    "\n",
    "items_links_men = []\n",
    "for link in links:\n",
    "    href = link.get('href')\n",
    "    items_links_men.append(href)\n",
    "\n",
    "list_items = items_links_women + items_links_men"
   ]
  },
  {
   "cell_type": "code",
   "execution_count": 2,
   "id": "dfaffc04",
   "metadata": {},
   "outputs": [
    {
     "name": "stdout",
     "output_type": "stream",
     "text": [
      "200\n"
     ]
    }
   ],
   "source": [
    "url = \"https://www.columbiasportswear.fr/FR/c/men-featured-bestsellers\"\n",
    "head = {\"User-Agent\":\"Mozilla/5.0 (X11; Ubuntu; Linux x86_64; rv:109.0) Gecko/20100101 Firefox/109.0\"}\n",
    "r = requests.get(url, headers  = head)\n",
    "print(r.status_code)"
   ]
  }
 ],
 "metadata": {
  "kernelspec": {
   "display_name": "Python 3 (ipykernel)",
   "language": "python",
   "name": "python3"
  },
  "language_info": {
   "codemirror_mode": {
    "name": "ipython",
    "version": 3
   },
   "file_extension": ".py",
   "mimetype": "text/x-python",
   "name": "python",
   "nbconvert_exporter": "python",
   "pygments_lexer": "ipython3",
   "version": "3.10.2"
  },
  "toc": {
   "base_numbering": 1,
   "nav_menu": {},
   "number_sections": true,
   "sideBar": true,
   "skip_h1_title": false,
   "title_cell": "Table of Contents",
   "title_sidebar": "Contents",
   "toc_cell": false,
   "toc_position": {},
   "toc_section_display": true,
   "toc_window_display": false
  }
 },
 "nbformat": 4,
 "nbformat_minor": 5
}
